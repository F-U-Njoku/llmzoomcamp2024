{
 "cells": [
  {
   "cell_type": "code",
   "execution_count": 3,
   "id": "e50c5442-c6b1-4af9-9770-dbe92f2184ee",
   "metadata": {},
   "outputs": [],
   "source": [
    "import openai\n",
    "from openai import OpenAI"
   ]
  },
  {
   "cell_type": "code",
   "execution_count": 4,
   "id": "2fca28ba-7618-49ff-8539-19187b6dc9ac",
   "metadata": {},
   "outputs": [],
   "source": [
    "client = OpenAI()"
   ]
  },
  {
   "cell_type": "code",
   "execution_count": 5,
   "id": "e10d3950-4386-4a16-8067-a79b9f02dee4",
   "metadata": {},
   "outputs": [],
   "source": [
    "response = client.chat.completions.create(\n",
    "    model = \"gpt-3.5-turbo\",\n",
    "    messages = [{\"role\":\"user\", \"content\":\"What are steps to land my first ML engineer job?\"}]\n",
    ")"
   ]
  },
  {
   "cell_type": "code",
   "execution_count": 14,
   "id": "60445c9c-3ea3-429f-8217-dcd2d61f2ad7",
   "metadata": {},
   "outputs": [
    {
     "data": {
      "text/plain": [
       "'1. Build a strong foundation in Machine Learning: Make sure you have a strong understanding of the basic concepts and algorithms in machine learning. Take online courses, read books, and work on projects to enhance your skills.\\n\\n2. Gain practical experience: Build a portfolio of projects that showcase your machine learning skills. This could include projects you have worked on in school, personal projects, or open-source contributions.\\n\\n3. Network: Attend industry events, conferences, and meetups to meet professionals in the field. Networking can help you learn about job opportunities and get referrals.\\n\\n4. Tailor your resume and cover letter: Highlight your machine learning projects and experience on your resume and cover letter. Make sure to customize them for each job application to demonstrate your fit for the specific role.\\n\\n5. Prepare for interviews: Practice coding exercises, machine learning concepts, and problem-solving skills to prepare for technical interviews. Be prepared to discuss your projects and explain your thought process.\\n\\n6. Apply for jobs: Look for entry-level machine learning engineer positions at companies that align with your interests and skills. Apply to job postings online and through networking connections.\\n\\n7. Continue learning and improving: Machine learning is a rapidly evolving field, so continue to stay updated on the latest research and technologies. Take courses, attend workshops, and participate in online communities to further develop your skills.'"
      ]
     },
     "execution_count": 14,
     "metadata": {},
     "output_type": "execute_result"
    }
   ],
   "source": [
    "response.choices[0].message.content"
   ]
  }
 ],
 "metadata": {
  "kernelspec": {
   "display_name": "Python 3 (ipykernel)",
   "language": "python",
   "name": "python3"
  },
  "language_info": {
   "codemirror_mode": {
    "name": "ipython",
    "version": 3
   },
   "file_extension": ".py",
   "mimetype": "text/x-python",
   "name": "python",
   "nbconvert_exporter": "python",
   "pygments_lexer": "ipython3",
   "version": "3.12.3"
  }
 },
 "nbformat": 4,
 "nbformat_minor": 5
}
