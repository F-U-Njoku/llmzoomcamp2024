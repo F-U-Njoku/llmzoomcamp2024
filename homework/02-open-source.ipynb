{
 "cells": [
  {
   "cell_type": "code",
   "execution_count": 3,
   "id": "0f009a22-fcb3-4e0c-98d3-5af1da405d8d",
   "metadata": {
    "collapsed": true,
    "jupyter": {
     "outputs_hidden": true
    },
    "scrolled": true
   },
   "outputs": [
    {
     "name": "stderr",
     "output_type": "stream",
     "text": [
      "/home/codespace/miniconda3/lib/python3.12/site-packages/tqdm/auto.py:21: TqdmWarning: IProgress not found. Please update jupyter and ipywidgets. See https://ipywidgets.readthedocs.io/en/stable/user_install.html\n",
      "  from .autonotebook import tqdm as notebook_tqdm\n"
     ]
    }
   ],
   "source": [
    "from openai import OpenAI"
   ]
  },
  {
   "cell_type": "markdown",
   "id": "e1129d15-90b5-4657-ae0a-c693902803ef",
   "metadata": {},
   "source": [
    "## Q1. Running Ollama with Docker"
   ]
  },
  {
   "cell_type": "markdown",
   "id": "f85bcbc9-0261-423b-b7eb-9a501576da0a",
   "metadata": {},
   "source": [
    "#### What's the version of ollama client?\n",
    "- ollama version is 0.1.48"
   ]
  },
  {
   "cell_type": "markdown",
   "id": "fd2279ed-e50b-407a-92e5-cbcb6f57c58b",
   "metadata": {},
   "source": [
    "## Q2. Downloading an LLM"
   ]
  },
  {
   "cell_type": "markdown",
   "id": "273c4ff0-a984-4925-be74-023ae4f49a9e",
   "metadata": {},
   "source": [
    "#### What's the content of the file related to gemma?\n",
    "- {\"schemaVersion\":2,\"mediaType\":\"application/vnd.docker.distribution.manifest.v2+json\",\"config\":{\"mediaType\":\"application/vnd.docker.container.image.v1+json\",\"digest\":\"sha256:887433b89a901c156f7e6944442f3c9e57f3c55d6ed52042cbb7303aea994290\",\"size\":483},\"layers\":[{\"mediaType\":\"application/vnd.ollama.image.model\",\"digest\":\"sha256:c1864a5eb19305c40519da12cc543519e48a0697ecd30e15d5ac228644957d12\",\"size\":1678447520},{\"mediaType\":\"application/vnd.ollama.image.license\",\"digest\":\"sha256:097a36493f718248845233af1d3fefe7a303f864fae13bc31a3a9704229378ca\",\"size\":8433},{\"mediaType\":\"application/vnd.ollama.image.template\",\"digest\":\"sha256:109037bec39c0becc8221222ae23557559bc594290945a2c4221ab4f303b8871\",\"size\":136},{\"mediaType\":\"application/vnd.ollama.image.params\",\"digest\":\"sha256:22a838ceb7fb22755a3b0ae9b4eadde629d19be1f651f73efb8c6b4e2cd0eea0\",\"size\":84}]}"
   ]
  },
  {
   "cell_type": "markdown",
   "id": "d5a3aa16-5ef1-4d81-9aae-413c32dfc952",
   "metadata": {},
   "source": [
    "## Q3. Running the LLM"
   ]
  },
  {
   "cell_type": "markdown",
   "id": "535383b7-cae5-44ba-847e-3a6bbdfdc7aa",
   "metadata": {},
   "source": [
    "#### Test the following prompt: \"10 * 10\". What's the answer?\n",
    "- \"10 * 10 = 100\""
   ]
  },
  {
   "cell_type": "markdown",
   "id": "aefe415f-7cb5-4ff0-98fd-d7e8c61c1137",
   "metadata": {},
   "source": [
    "## Q4. Downloading the weights"
   ]
  },
  {
   "cell_type": "markdown",
   "id": "d498e5b2-7592-4e17-80eb-9f45cbd15c49",
   "metadata": {},
   "source": [
    "#### What's the size of the ollama_files/models folder?\n",
    "- 1.6G "
   ]
  },
  {
   "cell_type": "markdown",
   "id": "6e69cb93-35e1-4a8d-84bf-af02cae8ff70",
   "metadata": {},
   "source": [
    "## Q5. Adding the weights"
   ]
  },
  {
   "cell_type": "markdown",
   "id": "03d1c953-e5b4-4f0a-bed2-82958c1fa17a",
   "metadata": {},
   "source": [
    "#### What do you put after COPY?\n",
    "- ./ollama_files"
   ]
  },
  {
   "cell_type": "markdown",
   "id": "5ecc9ae2-8994-4a1f-afd3-53164764eb23",
   "metadata": {},
   "source": [
    "## Q6. Serving it"
   ]
  },
  {
   "cell_type": "code",
   "execution_count": 19,
   "id": "a617dda7-d348-4b93-a808-c0f2fd9ddcdc",
   "metadata": {},
   "outputs": [],
   "source": [
    "client = OpenAI(\n",
    "    base_url='http://localhost:11434/v1/',\n",
    "    api_key='ollama',\n",
    ")"
   ]
  },
  {
   "cell_type": "code",
   "execution_count": 33,
   "id": "3cbf9b95-ec74-4a49-b90c-2c1340535eac",
   "metadata": {},
   "outputs": [],
   "source": [
    "def llm(prompt):\n",
    "    response = client.chat.completions.create(\n",
    "        temperature=0.0,\n",
    "        model='gemma:2b',\n",
    "        messages=[{\"role\": \"user\", \"content\": prompt}]\n",
    "    )\n",
    "    \n",
    "    return response"
   ]
  },
  {
   "cell_type": "code",
   "execution_count": null,
   "id": "25bb96f6-f8f4-4964-ae37-1781a9f3838b",
   "metadata": {
    "scrolled": true
   },
   "outputs": [],
   "source": [
    "prompt = \"What's the formula for energy?\"\n",
    "response = llm(prompt)"
   ]
  },
  {
   "cell_type": "code",
   "execution_count": 44,
   "id": "cc18f595-a93d-4c1d-8fdd-d3b7104fb5f8",
   "metadata": {},
   "outputs": [
    {
     "data": {
      "text/plain": [
       "{'id': 'chatcmpl-630',\n",
       " 'choices': [{'finish_reason': 'stop',\n",
       "   'index': 0,\n",
       "   'message': {'content': \"Sure, here's the formula for energy:\\n\\n**E = K + U**\\n\\nWhere:\\n\\n* **E** is the energy in joules (J)\\n* **K** is the kinetic energy in joules (J)\\n* **U** is the potential energy in joules (J)\\n\\n**Kinetic energy (K)** is the energy an object possesses when it moves or is in motion. It is calculated as half the product of an object's mass (m) and its velocity (v) squared:\\n\\n**K = 1/2 * m * v^2**\\n\\n**Potential energy (U)** is the energy an object possesses when it is in a position or has a specific configuration. It is calculated as the product of an object's mass and the gravitational constant (g) multiplied by the height or distance of the object from a reference point.\\n\\n**Gravitational potential energy (U)** is given by the formula:\\n\\n**U = mgh**\\n\\nWhere:\\n\\n* **m** is the mass of the object in kilograms (kg)\\n* **g** is the acceleration due to gravity in meters per second squared (m/s^2)\\n* **h** is the height or distance of the object in meters (m)\\n\\nThe formula for energy can be used to calculate the total energy of an object, the energy of a specific part of an object, or the change in energy of an object over time.\",\n",
       "    'role': 'assistant'}}],\n",
       " 'created': 1719700456,\n",
       " 'model': 'gemma:2b',\n",
       " 'object': 'chat.completion',\n",
       " 'system_fingerprint': 'fp_ollama',\n",
       " 'usage': {'completion_tokens': 304, 'prompt_tokens': 0, 'total_tokens': 304}}"
      ]
     },
     "execution_count": 44,
     "metadata": {},
     "output_type": "execute_result"
    }
   ],
   "source": [
    "response.to_dict()"
   ]
  },
  {
   "cell_type": "code",
   "execution_count": 52,
   "id": "bdc7c5f0-bd67-45ab-b5ce-0d369d435b6e",
   "metadata": {},
   "outputs": [
    {
     "data": {
      "text/plain": [
       "304"
      ]
     },
     "execution_count": 52,
     "metadata": {},
     "output_type": "execute_result"
    }
   ],
   "source": [
    "response.usage.completion_tokens"
   ]
  },
  {
   "cell_type": "markdown",
   "id": "3d2a3e29-ce32-4e64-a5b4-cff2a462ebb4",
   "metadata": {},
   "source": [
    "#### How many completion tokens did you get in response?\n",
    "- 304"
   ]
  }
 ],
 "metadata": {
  "kernelspec": {
   "display_name": "Python 3 (ipykernel)",
   "language": "python",
   "name": "python3"
  },
  "language_info": {
   "codemirror_mode": {
    "name": "ipython",
    "version": 3
   },
   "file_extension": ".py",
   "mimetype": "text/x-python",
   "name": "python",
   "nbconvert_exporter": "python",
   "pygments_lexer": "ipython3",
   "version": "3.12.4"
  }
 },
 "nbformat": 4,
 "nbformat_minor": 5
}
