{
 "cells": [
  {
   "cell_type": "markdown",
   "id": "d04a1b67-4f1f-42e2-bcbd-8b89e574f0e3",
   "metadata": {},
   "source": [
    "## Q1. Getting the embeddings model"
   ]
  },
  {
   "cell_type": "code",
   "execution_count": 1,
   "id": "1a3ececd-9ae1-41bb-b32e-8f749761e8d7",
   "metadata": {},
   "outputs": [
    {
     "name": "stderr",
     "output_type": "stream",
     "text": [
      "/home/codespace/miniconda3/lib/python3.12/site-packages/sentence_transformers/cross_encoder/CrossEncoder.py:11: TqdmExperimentalWarning: Using `tqdm.autonotebook.tqdm` in notebook mode. Use `tqdm.tqdm` instead to force console mode (e.g. in jupyter console)\n",
      "  from tqdm.autonotebook import tqdm, trange\n"
     ]
    },
    {
     "data": {
      "text/plain": [
       "0.078"
      ]
     },
     "execution_count": 1,
     "metadata": {},
     "output_type": "execute_result"
    }
   ],
   "source": [
    "from sentence_transformers import SentenceTransformer\n",
    "\n",
    "embedding_model = SentenceTransformer(\"multi-qa-distilbert-cos-v1\")\n",
    "\n",
    "user_question = \"I just discovered the course. Can I still join it?\"\n",
    "user_question_encoded = embedding_model.encode(user_question)\n",
    "round(user_question_encoded[0], 3)"
   ]
  },
  {
   "cell_type": "markdown",
   "id": "dd791827-1a19-463d-b379-001e19476eb8",
   "metadata": {},
   "source": [
    "### What's the first value of the resulting vector? \n",
    "- 0.078"
   ]
  },
  {
   "cell_type": "markdown",
   "id": "1c15be57-ec30-47eb-94ba-ad9edd9986ea",
   "metadata": {},
   "source": [
    "### Prepare the documents"
   ]
  },
  {
   "cell_type": "code",
   "execution_count": 2,
   "id": "2b289237-a8d1-4217-a686-0dfa73e84bd8",
   "metadata": {},
   "outputs": [],
   "source": [
    "import requests \n",
    "\n",
    "base_url = 'https://github.com/DataTalksClub/llm-zoomcamp/blob/main'\n",
    "relative_url = '03-vector-search/eval/documents-with-ids.json'\n",
    "docs_url = f'{base_url}/{relative_url}?raw=1'\n",
    "docs_response = requests.get(docs_url)\n",
    "documents = docs_response.json()"
   ]
  },
  {
   "cell_type": "code",
   "execution_count": 3,
   "id": "07b043bc-3b76-4140-9989-4674a9ae1f1e",
   "metadata": {},
   "outputs": [
    {
     "data": {
      "text/plain": [
       "{'text': 'Machine Learning Zoomcamp FAQ\\nThe purpose of this document is to capture frequently asked technical questions.\\nWe did this for our data engineering course and it worked quite well. Check this document for inspiration on how to structure your questions and answers:\\nData Engineering Zoomcamp FAQ\\nIn the course GitHub repository there’s a link. Here it is: https://airtable.com/shryxwLd0COOEaqXo\\nwork',\n",
       " 'section': 'General course-related questions',\n",
       " 'question': 'How do I sign up?',\n",
       " 'course': 'machine-learning-zoomcamp',\n",
       " 'id': '0227b872'}"
      ]
     },
     "execution_count": 3,
     "metadata": {},
     "output_type": "execute_result"
    }
   ],
   "source": [
    "use_docs = [doc for doc in documents if doc['course'] == \"machine-learning-zoomcamp\"]\n",
    "use_docs[0]"
   ]
  },
  {
   "cell_type": "code",
   "execution_count": 4,
   "id": "a74e14f0-1c6a-42af-85f6-1c78d20ef471",
   "metadata": {},
   "outputs": [
    {
     "data": {
      "text/plain": [
       "375"
      ]
     },
     "execution_count": 4,
     "metadata": {},
     "output_type": "execute_result"
    }
   ],
   "source": [
    "len(use_docs)"
   ]
  },
  {
   "cell_type": "markdown",
   "id": "05601856-bc81-4177-880e-05f5e2642a18",
   "metadata": {},
   "source": [
    "## Q2. Creating the embeddings"
   ]
  },
  {
   "cell_type": "code",
   "execution_count": 5,
   "id": "6c6a7faa-e824-4338-a6ea-6e5da2db3e46",
   "metadata": {},
   "outputs": [
    {
     "data": {
      "text/plain": [
       "(375, 768)"
      ]
     },
     "execution_count": 5,
     "metadata": {},
     "output_type": "execute_result"
    }
   ],
   "source": [
    "import numpy as np\n",
    "embeddings = []\n",
    "for doc in use_docs:\n",
    "    question = doc['question']\n",
    "    text=doc['text']\n",
    "    qa_text = f'{question} {text}'\n",
    "    qa_text_encoded = embedding_model.encode(qa_text)\n",
    "    embeddings.append(qa_text_encoded)\n",
    "\n",
    "X = np.array(embeddings)\n",
    "X.shape"
   ]
  },
  {
   "cell_type": "markdown",
   "id": "9b2fc8c1-6dd4-4404-b9fc-2dbc6e1197da",
   "metadata": {},
   "source": [
    "### What's the shape of X?\n",
    "- (375, 768)"
   ]
  },
  {
   "cell_type": "markdown",
   "id": "eb6cf57c-32dd-4a94-b23d-21f231503aff",
   "metadata": {},
   "source": [
    "## Q3. Search"
   ]
  },
  {
   "cell_type": "code",
   "execution_count": 6,
   "id": "8561b54f-bc99-4e74-b65e-9b5dcc34d8d0",
   "metadata": {},
   "outputs": [
    {
     "data": {
      "text/plain": [
       "(768,)"
      ]
     },
     "execution_count": 6,
     "metadata": {},
     "output_type": "execute_result"
    }
   ],
   "source": [
    "user_question_encoded.shape"
   ]
  },
  {
   "cell_type": "code",
   "execution_count": 7,
   "id": "63c554fc-1d98-4ecc-9339-cc129b6b4955",
   "metadata": {},
   "outputs": [],
   "source": [
    "v = user_question_encoded\n",
    "scores = X.dot(v)"
   ]
  },
  {
   "cell_type": "code",
   "execution_count": 8,
   "id": "305c2547-a376-4ac1-b078-6bceef9b01bc",
   "metadata": {},
   "outputs": [
    {
     "data": {
      "text/plain": [
       "0.6506573"
      ]
     },
     "execution_count": 8,
     "metadata": {},
     "output_type": "execute_result"
    }
   ],
   "source": [
    "scores.max()"
   ]
  },
  {
   "cell_type": "markdown",
   "id": "c339c98b-71db-4cc0-8f98-6bb44c7a3b8a",
   "metadata": {},
   "source": [
    "### What's the highest score in the results?\n",
    "- 0.6506573"
   ]
  },
  {
   "cell_type": "markdown",
   "id": "eb424dd0-8ec0-4977-869c-a469c3bd40b4",
   "metadata": {},
   "source": [
    "### Vector search"
   ]
  },
  {
   "cell_type": "code",
   "execution_count": 44,
   "id": "3912e02f-572e-42f7-802c-737919b3c43c",
   "metadata": {},
   "outputs": [],
   "source": [
    "class VectorSearchEngine():\n",
    "    def __init__(self, documents, embeddings):\n",
    "        self.documents = documents\n",
    "        self.embeddings = embeddings\n",
    "\n",
    "    def search(self, v_query, num_results=10):\n",
    "        scores = self.embeddings.dot(v_query)\n",
    "        idx = np.argsort(-scores)[:num_results]\n",
    "        return [self.documents[i] for i in idx]"
   ]
  },
  {
   "cell_type": "markdown",
   "id": "bbe821b8-e9bf-4d9c-b200-f9fb7fb8e157",
   "metadata": {},
   "source": [
    "## Q4. Hit-rate for our search engine"
   ]
  },
  {
   "cell_type": "code",
   "execution_count": 45,
   "id": "69befc5c-dad6-473d-bf22-d05a79cd6084",
   "metadata": {},
   "outputs": [],
   "source": [
    "import pandas as pd\n",
    "\n",
    "base_url = 'https://github.com/DataTalksClub/llm-zoomcamp/blob/main'\n",
    "relative_url = '03-vector-search/eval/ground-truth-data.csv'\n",
    "ground_truth_url = f'{base_url}/{relative_url}?raw=1'\n",
    "\n",
    "df_ground_truth = pd.read_csv(ground_truth_url)\n",
    "df_ground_truth = df_ground_truth[df_ground_truth.course == 'machine-learning-zoomcamp']\n",
    "ground_truth = df_ground_truth.to_dict(orient='records')"
   ]
  },
  {
   "cell_type": "code",
   "execution_count": 46,
   "id": "61289667-6c95-47b3-b305-ea486dae2ad4",
   "metadata": {
    "scrolled": true
   },
   "outputs": [],
   "source": [
    "search_engine = VectorSearchEngine(documents=use_docs, embeddings=X)\n",
    "\n",
    "doc_match = []\n",
    "for doc in ground_truth:\n",
    "    question = doc['question']\n",
    "    v = embedding_model.encode(question)\n",
    "    result = search_engine.search(v, num_results=5)\n",
    "    match = [doc['document'] == res['id'] for res in result]\n",
    "    doc_match.append(match)"
   ]
  },
  {
   "cell_type": "code",
   "execution_count": 49,
   "id": "ff69848c-b146-480e-a6d6-f13cbe1f56aa",
   "metadata": {},
   "outputs": [
    {
     "data": {
      "text/plain": [
       "0.9426229508196722"
      ]
     },
     "execution_count": 49,
     "metadata": {},
     "output_type": "execute_result"
    }
   ],
   "source": [
    "hit_sum = 0\n",
    "for i in doc_match:\n",
    "    hit_sum += sum(i)\n",
    "hit_rate = hit_sum/len(doc_match)\n",
    "\n",
    "hit_rate"
   ]
  },
  {
   "cell_type": "markdown",
   "id": "ae7fc2a7-9a4a-4be7-99df-f3e350bdcb50",
   "metadata": {},
   "source": [
    "### What did you get?\n",
    "- 0.9426"
   ]
  },
  {
   "cell_type": "markdown",
   "id": "205d25d8-7308-4f17-9048-5fe2beaa52cf",
   "metadata": {},
   "source": [
    "## Q5. Indexing with Elasticsearch"
   ]
  },
  {
   "cell_type": "code",
   "execution_count": 52,
   "id": "f1631ab4-b044-41ce-9df5-cd36f06863a5",
   "metadata": {},
   "outputs": [],
   "source": [
    "from elasticsearch import Elasticsearch\n",
    "es_client = Elasticsearch(\"http://localhost:9200\")"
   ]
  },
  {
   "cell_type": "code",
   "execution_count": 60,
   "id": "685994a4-7301-4d3d-acca-6138caa304a4",
   "metadata": {},
   "outputs": [
    {
     "data": {
      "text/plain": [
       "dict_keys(['text', 'section', 'question', 'course', 'id'])"
      ]
     },
     "execution_count": 60,
     "metadata": {},
     "output_type": "execute_result"
    }
   ],
   "source": [
    "use_docs[0].keys()"
   ]
  },
  {
   "cell_type": "code",
   "execution_count": null,
   "id": "d9439cfd-5f91-43b6-ac03-8c909c14f141",
   "metadata": {},
   "outputs": [],
   "source": [
    "for i in range(len(use_docs)):\n",
    "    use_docs[i][\"text_vector\"] =  X[i]"
   ]
  },
  {
   "cell_type": "code",
   "execution_count": 65,
   "id": "6203336d-f2e1-4a15-926b-d6168046ff09",
   "metadata": {},
   "outputs": [],
   "source": [
    "index_settings = {\n",
    "    \"settings\": {\n",
    "        \"number_of_shards\": 1,\n",
    "        \"number_of_replicas\": 0\n",
    "    },\n",
    "    \"mappings\": {\n",
    "        \"properties\": {\n",
    "            \"text\": {\"type\": \"text\"},\n",
    "            \"section\": {\"type\": \"text\"},\n",
    "            \"question\": {\"type\": \"text\"},\n",
    "            \"course\": {\"type\": \"keyword\"},\n",
    "            'id': {\"type\": \"text\"},\n",
    "            \"text_vector\": {\"type\": \"dense_vector\", \"dims\": 768, \"index\": True, \"similarity\": \"cosine\"}\n",
    "        }\n",
    "    }\n",
    "}"
   ]
  },
  {
   "cell_type": "code",
   "execution_count": 68,
   "id": "9ede2694-e8e1-4e1c-9006-046bebb6d720",
   "metadata": {},
   "outputs": [
    {
     "data": {
      "text/plain": [
       "{'acknowledged': True, 'shards_acknowledged': True, 'index': 'ml_questions'}"
      ]
     },
     "execution_count": 68,
     "metadata": {},
     "output_type": "execute_result"
    }
   ],
   "source": [
    "index_name = \"ml_questions\"\n",
    "es_client.indices.delete(index=index_name, ignore_unavailable=True)\n",
    "es_client.indices.create(index=index_name, body=index_settings)\n"
   ]
  },
  {
   "cell_type": "code",
   "execution_count": 69,
   "id": "452e4d6d-bb00-4ad1-a4c4-e03fa4961df9",
   "metadata": {},
   "outputs": [],
   "source": [
    "for doc in use_docs:\n",
    "    try:\n",
    "        es_client.index(index=index_name, body=doc)\n",
    "    except Exception as e:\n",
    "        print(e)"
   ]
  },
  {
   "cell_type": "code",
   "execution_count": 70,
   "id": "30fecc9d-de9f-440c-b329-955edf3b636e",
   "metadata": {},
   "outputs": [],
   "source": [
    "query = {\n",
    "    \"knn\": {\n",
    "        \"field\": \"text_vector\",\n",
    "        \"query_vector\": user_question_encoded,\n",
    "        \"k\": 5, \n",
    "        \"num_candidates\": 10000\n",
    "        },\n",
    "    \n",
    "    \"fields\": [\"text\",\"section\",\"question\",\"course\", \"id\"]\n",
    "}"
   ]
  },
  {
   "cell_type": "code",
   "execution_count": null,
   "id": "0c436213-0604-45ce-8aa8-0c038cb6e7e0",
   "metadata": {},
   "outputs": [],
   "source": [
    "results = es_client.search(index=index_name, body=query)\n",
    "results[\"hits\"][\"hits\"]"
   ]
  },
  {
   "cell_type": "markdown",
   "id": "d22a30b8-695e-4c7b-b746-b2dce5bb20be",
   "metadata": {},
   "source": [
    "### What's the ID of the document with the highest score?\n",
    "- ee58a693"
   ]
  },
  {
   "cell_type": "markdown",
   "id": "447c2850-587a-4b55-935a-ecf78f065187",
   "metadata": {},
   "source": [
    "## Q6. Hit-rate for Elasticsearch"
   ]
  },
  {
   "cell_type": "code",
   "execution_count": 90,
   "id": "7758bcc3-b11c-42e4-b537-4edb5e88f6e7",
   "metadata": {},
   "outputs": [],
   "source": [
    "def search_es(search_vector):\n",
    "    query = {\n",
    "    \"knn\": {\n",
    "        \"field\": \"text_vector\",\n",
    "        \"query_vector\": search_vector,\n",
    "        \"k\": 5, \n",
    "        \"num_candidates\": 10000\n",
    "        },\n",
    "    \n",
    "    \"fields\": [\"text\",\"section\",\"question\",\"course\", \"id\"]\n",
    "    }\n",
    "    \n",
    "    results = es_client.search(index=index_name, body=query)\n",
    "    return results[\"hits\"][\"hits\"]"
   ]
  },
  {
   "cell_type": "code",
   "execution_count": 91,
   "id": "d644422e-3bf0-406e-8e87-78c3ada918f0",
   "metadata": {
    "scrolled": true
   },
   "outputs": [
    {
     "name": "stderr",
     "output_type": "stream",
     "text": [
      "100%|█████████████████████████████████████████████████████████████████████████████████████████████████████████████████████████████████████████████| 1830/1830 [01:24<00:00, 21.60it/s]\n"
     ]
    }
   ],
   "source": [
    "from tqdm import tqdm\n",
    "\n",
    "doc_match = []\n",
    "for doc in tqdm(ground_truth):\n",
    "    question = doc['question']\n",
    "    v = embedding_model.encode(question)\n",
    "    result = search_es(v)\n",
    "    match = [doc['document'] == res['_source'][\"id\"] for res in result]\n",
    "    doc_match.append(match)"
   ]
  },
  {
   "cell_type": "code",
   "execution_count": 92,
   "id": "a581c4de-f968-47ba-9bc1-59f96b4c6975",
   "metadata": {},
   "outputs": [
    {
     "data": {
      "text/plain": [
       "0.9426229508196722"
      ]
     },
     "execution_count": 92,
     "metadata": {},
     "output_type": "execute_result"
    }
   ],
   "source": [
    "hit_sum = 0\n",
    "for i in doc_match:\n",
    "    hit_sum += sum(i)\n",
    "hit_rate = hit_sum/len(doc_match)\n",
    "\n",
    "hit_rate"
   ]
  },
  {
   "cell_type": "markdown",
   "id": "3805b7e4-be60-4155-bc1f-cbab9c61ce9f",
   "metadata": {},
   "source": [
    "What's hitrate for our dataset for Elastic?\n",
    "- 0.9426"
   ]
  },
  {
   "cell_type": "code",
   "execution_count": null,
   "id": "249f397c-e82f-4a41-9eb7-f1b3674ce98f",
   "metadata": {},
   "outputs": [],
   "source": []
  }
 ],
 "metadata": {
  "kernelspec": {
   "display_name": "Python 3 (ipykernel)",
   "language": "python",
   "name": "python3"
  },
  "language_info": {
   "codemirror_mode": {
    "name": "ipython",
    "version": 3
   },
   "file_extension": ".py",
   "mimetype": "text/x-python",
   "name": "python",
   "nbconvert_exporter": "python",
   "pygments_lexer": "ipython3",
   "version": "3.12.3"
  }
 },
 "nbformat": 4,
 "nbformat_minor": 5
}
