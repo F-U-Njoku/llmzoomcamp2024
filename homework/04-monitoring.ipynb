{
 "cells": [
  {
   "cell_type": "code",
   "execution_count": 23,
   "id": "05935502",
   "metadata": {},
   "outputs": [],
   "source": [
    "import numpy as np\n",
    "import pandas as pd"
   ]
  },
  {
   "cell_type": "code",
   "execution_count": 5,
   "id": "4c16a30f",
   "metadata": {},
   "outputs": [],
   "source": [
    "github_url = \"https://raw.githubusercontent.com/DataTalksClub/llm-zoomcamp/main/04-monitoring/data/results-gpt4o-mini.csv\"\n",
    "url = f'{github_url}?raw=1'\n",
    "df = pd.read_csv(url)"
   ]
  },
  {
   "cell_type": "code",
   "execution_count": 6,
   "id": "1ca96feb",
   "metadata": {},
   "outputs": [],
   "source": [
    "df = df.iloc[:300]"
   ]
  },
  {
   "cell_type": "code",
   "execution_count": 8,
   "id": "221a871a",
   "metadata": {
    "collapsed": true
   },
   "outputs": [
    {
     "data": {
      "application/vnd.jupyter.widget-view+json": {
       "model_id": "a07afb3e7b84409dbe3c082aeefe82fd",
       "version_major": 2,
       "version_minor": 0
      },
      "text/plain": [
       "modules.json:   0%|          | 0.00/229 [00:00<?, ?B/s]"
      ]
     },
     "metadata": {},
     "output_type": "display_data"
    },
    {
     "data": {
      "application/vnd.jupyter.widget-view+json": {
       "model_id": "5c7242a0914d43a2acd41a1c8194bf11",
       "version_major": 2,
       "version_minor": 0
      },
      "text/plain": [
       "config_sentence_transformers.json:   0%|          | 0.00/212 [00:00<?, ?B/s]"
      ]
     },
     "metadata": {},
     "output_type": "display_data"
    },
    {
     "data": {
      "application/vnd.jupyter.widget-view+json": {
       "model_id": "6b2ef0b0fe45446286955a63dfa53ded",
       "version_major": 2,
       "version_minor": 0
      },
      "text/plain": [
       "README.md:   0%|          | 0.00/8.71k [00:00<?, ?B/s]"
      ]
     },
     "metadata": {},
     "output_type": "display_data"
    },
    {
     "data": {
      "application/vnd.jupyter.widget-view+json": {
       "model_id": "762dc234134f49ccaaabf754315749ec",
       "version_major": 2,
       "version_minor": 0
      },
      "text/plain": [
       "sentence_bert_config.json:   0%|          | 0.00/53.0 [00:00<?, ?B/s]"
      ]
     },
     "metadata": {},
     "output_type": "display_data"
    },
    {
     "data": {
      "application/vnd.jupyter.widget-view+json": {
       "model_id": "2bd5ee4d036b434797a8d800fbce8937",
       "version_major": 2,
       "version_minor": 0
      },
      "text/plain": [
       "config.json:   0%|          | 0.00/571 [00:00<?, ?B/s]"
      ]
     },
     "metadata": {},
     "output_type": "display_data"
    },
    {
     "data": {
      "application/vnd.jupyter.widget-view+json": {
       "model_id": "2462521eb9d243928287d85adaae56d5",
       "version_major": 2,
       "version_minor": 0
      },
      "text/plain": [
       "model.safetensors:   0%|          | 0.00/438M [00:00<?, ?B/s]"
      ]
     },
     "metadata": {},
     "output_type": "display_data"
    },
    {
     "data": {
      "application/vnd.jupyter.widget-view+json": {
       "model_id": "56f4845df93444f5980b5a90e8ceda27",
       "version_major": 2,
       "version_minor": 0
      },
      "text/plain": [
       "tokenizer_config.json:   0%|          | 0.00/363 [00:00<?, ?B/s]"
      ]
     },
     "metadata": {},
     "output_type": "display_data"
    },
    {
     "data": {
      "application/vnd.jupyter.widget-view+json": {
       "model_id": "c00434968d4c4d6f8104a6e1af4687da",
       "version_major": 2,
       "version_minor": 0
      },
      "text/plain": [
       "vocab.txt:   0%|          | 0.00/232k [00:00<?, ?B/s]"
      ]
     },
     "metadata": {},
     "output_type": "display_data"
    },
    {
     "data": {
      "application/vnd.jupyter.widget-view+json": {
       "model_id": "a4ad915890214ff6a9e9be754048b8fe",
       "version_major": 2,
       "version_minor": 0
      },
      "text/plain": [
       "tokenizer.json:   0%|          | 0.00/466k [00:00<?, ?B/s]"
      ]
     },
     "metadata": {},
     "output_type": "display_data"
    },
    {
     "data": {
      "application/vnd.jupyter.widget-view+json": {
       "model_id": "53c5113708514dc8b684b4f0ab25e957",
       "version_major": 2,
       "version_minor": 0
      },
      "text/plain": [
       "special_tokens_map.json:   0%|          | 0.00/239 [00:00<?, ?B/s]"
      ]
     },
     "metadata": {},
     "output_type": "display_data"
    },
    {
     "data": {
      "application/vnd.jupyter.widget-view+json": {
       "model_id": "9b4ee53705b24c24b5dc0a016c767d2f",
       "version_major": 2,
       "version_minor": 0
      },
      "text/plain": [
       "1_Pooling/config.json:   0%|          | 0.00/190 [00:00<?, ?B/s]"
      ]
     },
     "metadata": {},
     "output_type": "display_data"
    }
   ],
   "source": [
    "from sentence_transformers import SentenceTransformer\n",
    "\n",
    "embedding_model = SentenceTransformer(\"multi-qa-mpnet-base-dot-v1\")"
   ]
  },
  {
   "cell_type": "code",
   "execution_count": 12,
   "id": "483f11fd",
   "metadata": {},
   "outputs": [],
   "source": [
    "answer_llm = df.iloc[0].answer_llm\n",
    "first_encode = embedding_model.encode(answer_llm)"
   ]
  },
  {
   "cell_type": "code",
   "execution_count": 15,
   "id": "0942c395",
   "metadata": {},
   "outputs": [
    {
     "data": {
      "text/plain": [
       "-0.42"
      ]
     },
     "execution_count": 15,
     "metadata": {},
     "output_type": "execute_result"
    }
   ],
   "source": [
    "round(first_encode[0], 2)"
   ]
  },
  {
   "cell_type": "markdown",
   "id": "f07e0445",
   "metadata": {},
   "source": [
    "## Q1. Getting the embeddings model\n",
    "- What's the first value of the resulting vector? **-0.42**"
   ]
  },
  {
   "cell_type": "code",
   "execution_count": 20,
   "id": "e193c8b3",
   "metadata": {},
   "outputs": [],
   "source": [
    "answer_llm_encode = []\n",
    "answer_orig_encode = []\n",
    "evaluations = []\n",
    "\n",
    "for i in range(df.shape[0]):\n",
    "    temp1 = embedding_model.encode(df.iloc[i].answer_llm)\n",
    "    temp2 = embedding_model.encode(df.iloc[i].answer_orig)\n",
    "    \n",
    "    answer_llm_encode.append(temp1)\n",
    "    answer_orig_encode.append(temp2)\n",
    "    \n",
    "    evaluations.append(temp1.dot(temp2))\n",
    "    "
   ]
  },
  {
   "cell_type": "code",
   "execution_count": 28,
   "id": "e938b58b",
   "metadata": {},
   "outputs": [
    {
     "data": {
      "text/plain": [
       "31.67"
      ]
     },
     "execution_count": 28,
     "metadata": {},
     "output_type": "execute_result"
    }
   ],
   "source": [
    "round(np.percentile(evaluations, 75), 2)"
   ]
  },
  {
   "cell_type": "markdown",
   "id": "f43ab575",
   "metadata": {},
   "source": [
    "## Q2. Computing the dot product\n",
    "- What's the 75% percentile of the score? **31.67**"
   ]
  },
  {
   "cell_type": "code",
   "execution_count": 29,
   "id": "87252c70",
   "metadata": {},
   "outputs": [],
   "source": [
    "def norm_vec(v):\n",
    "    norm = np.sqrt((v * v).sum())\n",
    "    v_norm = v / norm\n",
    "    return v_norm\n",
    "\n",
    "answer_llm_norm = [norm_vec(v) for v in answer_llm_encode]\n",
    "answer_orig_norm = [norm_vec(v) for v in answer_orig_encode]\n",
    "\n",
    "evaluations_norm = [answer_llm_norm[i].dot(answer_orig_norm[i]) for i in range(df.shape[0])]"
   ]
  },
  {
   "cell_type": "code",
   "execution_count": 32,
   "id": "a4be6c05",
   "metadata": {},
   "outputs": [
    {
     "data": {
      "text/plain": [
       "0.836"
      ]
     },
     "execution_count": 32,
     "metadata": {},
     "output_type": "execute_result"
    }
   ],
   "source": [
    "round(np.percentile(evaluations_norm, 75), 3)"
   ]
  },
  {
   "cell_type": "markdown",
   "id": "90178707",
   "metadata": {},
   "source": [
    "## Q3. Computing the cosine\n",
    "- What's the 75% cosine in the scores? **0.83**"
   ]
  },
  {
   "cell_type": "code",
   "execution_count": 34,
   "id": "b66f12a0",
   "metadata": {},
   "outputs": [],
   "source": [
    "from rouge import Rouge\n",
    "\n",
    "r = df.iloc[10]\n",
    "\n",
    "rouge_scorer = Rouge()\n",
    "scores = rouge_scorer.get_scores(r['answer_llm'], r['answer_orig'])[0]"
   ]
  },
  {
   "cell_type": "code",
   "execution_count": 35,
   "id": "5a412185",
   "metadata": {},
   "outputs": [
    {
     "data": {
      "text/plain": [
       "{'rouge-1': {'r': 0.45454545454545453,\n",
       "  'p': 0.45454545454545453,\n",
       "  'f': 0.45454544954545456},\n",
       " 'rouge-2': {'r': 0.21621621621621623,\n",
       "  'p': 0.21621621621621623,\n",
       "  'f': 0.21621621121621637},\n",
       " 'rouge-l': {'r': 0.3939393939393939,\n",
       "  'p': 0.3939393939393939,\n",
       "  'f': 0.393939388939394}}"
      ]
     },
     "execution_count": 35,
     "metadata": {},
     "output_type": "execute_result"
    }
   ],
   "source": [
    "scores"
   ]
  },
  {
   "cell_type": "markdown",
   "id": "3fb27bae",
   "metadata": {},
   "source": [
    "## Q4. Rouge\n",
    "- What's the F score for rouge-1? **0.45**"
   ]
  },
  {
   "cell_type": "code",
   "execution_count": 42,
   "id": "369b6353",
   "metadata": {},
   "outputs": [
    {
     "data": {
      "text/plain": [
       "0.355"
      ]
     },
     "execution_count": 42,
     "metadata": {},
     "output_type": "execute_result"
    }
   ],
   "source": [
    "f1_scores = []\n",
    "for k,v in scores.items():\n",
    "    f1_scores.append(v['f'])\n",
    "    \n",
    "round(np.average(f1_scores), 3)"
   ]
  },
  {
   "cell_type": "markdown",
   "id": "cf4aa7e7",
   "metadata": {},
   "source": [
    "## Q5. Average rouge score\n",
    "- Let's compute the average F-score between rouge-1, rouge-2 and rouge-l for the same record from Q4 **0.35**"
   ]
  },
  {
   "cell_type": "code",
   "execution_count": 43,
   "id": "21fa4667",
   "metadata": {},
   "outputs": [],
   "source": [
    "rouge_scores = []\n",
    "\n",
    "for i in range(df.shape[0]):\n",
    "    score = rouge_scorer.get_scores(df.iloc[i].answer_llm, df.iloc[i].answer_orig)[0]\n",
    "    rouge_scores.append(score)"
   ]
  },
  {
   "cell_type": "code",
   "execution_count": 52,
   "id": "ed6a2dc9",
   "metadata": {},
   "outputs": [
    {
     "data": {
      "text/html": [
       "<div>\n",
       "<style scoped>\n",
       "    .dataframe tbody tr th:only-of-type {\n",
       "        vertical-align: middle;\n",
       "    }\n",
       "\n",
       "    .dataframe tbody tr th {\n",
       "        vertical-align: top;\n",
       "    }\n",
       "\n",
       "    .dataframe thead th {\n",
       "        text-align: right;\n",
       "    }\n",
       "</style>\n",
       "<table border=\"1\" class=\"dataframe\">\n",
       "  <thead>\n",
       "    <tr style=\"text-align: right;\">\n",
       "      <th></th>\n",
       "      <th>rouge-1_r</th>\n",
       "      <th>rouge-1_p</th>\n",
       "      <th>rouge-1_f</th>\n",
       "      <th>rouge-2_r</th>\n",
       "      <th>rouge-2_p</th>\n",
       "      <th>rouge-2_f</th>\n",
       "      <th>rouge-l_r</th>\n",
       "      <th>rouge-l_p</th>\n",
       "      <th>rouge-l_f</th>\n",
       "    </tr>\n",
       "  </thead>\n",
       "  <tbody>\n",
       "    <tr>\n",
       "      <th>0</th>\n",
       "      <td>0.061224</td>\n",
       "      <td>0.214286</td>\n",
       "      <td>0.095238</td>\n",
       "      <td>0.017544</td>\n",
       "      <td>0.071429</td>\n",
       "      <td>0.028169</td>\n",
       "      <td>0.061224</td>\n",
       "      <td>0.214286</td>\n",
       "      <td>0.095238</td>\n",
       "    </tr>\n",
       "    <tr>\n",
       "      <th>1</th>\n",
       "      <td>0.081633</td>\n",
       "      <td>0.266667</td>\n",
       "      <td>0.125000</td>\n",
       "      <td>0.035088</td>\n",
       "      <td>0.133333</td>\n",
       "      <td>0.055556</td>\n",
       "      <td>0.061224</td>\n",
       "      <td>0.200000</td>\n",
       "      <td>0.093750</td>\n",
       "    </tr>\n",
       "    <tr>\n",
       "      <th>2</th>\n",
       "      <td>0.326531</td>\n",
       "      <td>0.571429</td>\n",
       "      <td>0.415584</td>\n",
       "      <td>0.140351</td>\n",
       "      <td>0.242424</td>\n",
       "      <td>0.177778</td>\n",
       "      <td>0.306122</td>\n",
       "      <td>0.535714</td>\n",
       "      <td>0.389610</td>\n",
       "    </tr>\n",
       "    <tr>\n",
       "      <th>3</th>\n",
       "      <td>0.163265</td>\n",
       "      <td>0.320000</td>\n",
       "      <td>0.216216</td>\n",
       "      <td>0.035088</td>\n",
       "      <td>0.071429</td>\n",
       "      <td>0.047059</td>\n",
       "      <td>0.142857</td>\n",
       "      <td>0.280000</td>\n",
       "      <td>0.189189</td>\n",
       "    </tr>\n",
       "    <tr>\n",
       "      <th>4</th>\n",
       "      <td>0.265306</td>\n",
       "      <td>0.097015</td>\n",
       "      <td>0.142076</td>\n",
       "      <td>0.070175</td>\n",
       "      <td>0.022346</td>\n",
       "      <td>0.033898</td>\n",
       "      <td>0.224490</td>\n",
       "      <td>0.082090</td>\n",
       "      <td>0.120219</td>\n",
       "    </tr>\n",
       "  </tbody>\n",
       "</table>\n",
       "</div>"
      ],
      "text/plain": [
       "   rouge-1_r  rouge-1_p  rouge-1_f  rouge-2_r  rouge-2_p  rouge-2_f  \\\n",
       "0   0.061224   0.214286   0.095238   0.017544   0.071429   0.028169   \n",
       "1   0.081633   0.266667   0.125000   0.035088   0.133333   0.055556   \n",
       "2   0.326531   0.571429   0.415584   0.140351   0.242424   0.177778   \n",
       "3   0.163265   0.320000   0.216216   0.035088   0.071429   0.047059   \n",
       "4   0.265306   0.097015   0.142076   0.070175   0.022346   0.033898   \n",
       "\n",
       "   rouge-l_r  rouge-l_p  rouge-l_f  \n",
       "0   0.061224   0.214286   0.095238  \n",
       "1   0.061224   0.200000   0.093750  \n",
       "2   0.306122   0.535714   0.389610  \n",
       "3   0.142857   0.280000   0.189189  \n",
       "4   0.224490   0.082090   0.120219  "
      ]
     },
     "execution_count": 52,
     "metadata": {},
     "output_type": "execute_result"
    }
   ],
   "source": [
    "# Initialize an empty list to store rows for the DataFrame\n",
    "rows = []\n",
    "\n",
    "# Iterate through each dictionary in the list\n",
    "for item in rouge_scores:\n",
    "    row = {}\n",
    "    for rouge_key, metrics in item.items():\n",
    "        for metric_key, value in metrics.items():\n",
    "            # Create a composite key for the DataFrame columns\n",
    "            row[f'{rouge_key}_{metric_key}'] = value\n",
    "    rows.append(row)\n",
    "\n",
    "# Create a DataFrame from the list of rows\n",
    "rouge_df = pd.DataFrame(rows)\n",
    "\n",
    "# Print the DataFrame\n",
    "rouge_df.head()"
   ]
  },
  {
   "cell_type": "code",
   "execution_count": 55,
   "id": "d87765f9",
   "metadata": {},
   "outputs": [
    {
     "data": {
      "text/plain": [
       "0.207"
      ]
     },
     "execution_count": 55,
     "metadata": {},
     "output_type": "execute_result"
    }
   ],
   "source": [
    "round(rouge_df[\"rouge-2_f\"].mean(), 3)"
   ]
  },
  {
   "cell_type": "markdown",
   "id": "34c312b7",
   "metadata": {},
   "source": [
    "## Q6. Average rouge score for all the data points\n",
    "\n",
    "- What's the average rouge_2 across all the records? **0.20**"
   ]
  }
 ],
 "metadata": {
  "kernelspec": {
   "display_name": "Python 3 (ipykernel)",
   "language": "python",
   "name": "python3"
  },
  "language_info": {
   "codemirror_mode": {
    "name": "ipython",
    "version": 3
   },
   "file_extension": ".py",
   "mimetype": "text/x-python",
   "name": "python",
   "nbconvert_exporter": "python",
   "pygments_lexer": "ipython3",
   "version": "3.11.5"
  }
 },
 "nbformat": 4,
 "nbformat_minor": 5
}
