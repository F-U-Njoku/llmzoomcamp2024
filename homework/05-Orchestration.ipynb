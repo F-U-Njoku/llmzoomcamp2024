{
 "cells": [
  {
   "cell_type": "code",
   "execution_count": 3,
   "id": "f0af04eb",
   "metadata": {},
   "outputs": [],
   "source": [
    "from elasticsearch import Elasticsearch"
   ]
  },
  {
   "cell_type": "code",
   "execution_count": 5,
   "id": "afece257",
   "metadata": {},
   "outputs": [],
   "source": [
    "es_client = Elasticsearch(\"http://localhost:9200\")"
   ]
  },
  {
   "cell_type": "markdown",
   "id": "e01602c9",
   "metadata": {},
   "source": [
    "## Q1. Running Mage\n",
    "- What's the version of mage? **v0.9.72**"
   ]
  },
  {
   "cell_type": "markdown",
   "id": "101c88bb",
   "metadata": {},
   "source": [
    "## Q2. Reading the documents\n",
    "- Copy the code to the editor How many FAQ documents we processed? **1**"
   ]
  },
  {
   "cell_type": "markdown",
   "id": "21095afe",
   "metadata": {},
   "source": [
    "## Q3. Chunking\n",
    "- How many documents (chunks) do we have in the output? **86**"
   ]
  },
  {
   "cell_type": "markdown",
   "id": "8eeb9725",
   "metadata": {},
   "source": [
    "## Q4. Export\n",
    "```\n",
    "Indexing document ad7a2019\n",
    "{'text': 'Please see the General section or use CTRL+F to search this doc.', 'section': 'Module 2: Open-Source LLMs', 'question': 'Saturn Cloud issues', 'document_id': 'ad7a2019'}\n",
    "```\n",
    "- What's the last document id? **ad7a2019**"
   ]
  },
  {
   "cell_type": "markdown",
   "id": "917f69db",
   "metadata": {},
   "source": [
    "## Q5. Testing the retrieval"
   ]
  },
  {
   "cell_type": "code",
   "execution_count": 10,
   "id": "b9bb661a",
   "metadata": {},
   "outputs": [],
   "source": [
    "query = \"When is the next cohort?\"\n",
    "\n",
    "search_query = {\n",
    "    \"size\": 5,\n",
    "    \"query\": {\n",
    "        \"bool\": {\n",
    "            \"must\": {\n",
    "                \"multi_match\": {\n",
    "                    \"query\": query,\n",
    "                    \"fields\": [\"question\", \"text\"],\n",
    "                    \"type\": \"best_fields\"\n",
    "                }\n",
    "            }\n",
    "        }\n",
    "    }\n",
    "}\n",
    "\n",
    "response = es_client.search(index=\"documents_20240816_3752\", body=search_query)"
   ]
  },
  {
   "cell_type": "code",
   "execution_count": 11,
   "id": "8a996863",
   "metadata": {
    "scrolled": true
   },
   "outputs": [
    {
     "data": {
      "text/plain": [
       "{'_index': 'documents_20240816_3752',\n",
       " '_id': 'wBSOXZEBZngwmIKXALTO',\n",
       " '_score': 8.443945,\n",
       " '_source': {'text': 'Summer 2025 (via Alexey).',\n",
       "  'section': 'General course-related questions',\n",
       "  'question': 'When will the course be offered next?',\n",
       "  'document_id': '2eb1e9a7'}}"
      ]
     },
     "execution_count": 11,
     "metadata": {},
     "output_type": "execute_result"
    }
   ],
   "source": [
    "response['hits']['hits'][0]"
   ]
  },
  {
   "cell_type": "markdown",
   "id": "f8b95e09",
   "metadata": {},
   "source": [
    "- What's the ID of the top matching result? **2eb1e9a7**"
   ]
  },
  {
   "cell_type": "markdown",
   "id": "919f1251",
   "metadata": {},
   "source": [
    "## Q6. Reindexing"
   ]
  },
  {
   "cell_type": "code",
   "execution_count": 12,
   "id": "97882ad8",
   "metadata": {},
   "outputs": [],
   "source": [
    "query = \"When is the next cohort?\"\n",
    "\n",
    "search_query = {\n",
    "    \"size\": 5,\n",
    "    \"query\": {\n",
    "        \"bool\": {\n",
    "            \"must\": {\n",
    "                \"multi_match\": {\n",
    "                    \"query\": query,\n",
    "                    \"fields\": [\"question\", \"text\"],\n",
    "                    \"type\": \"best_fields\"\n",
    "                }\n",
    "            }\n",
    "        }\n",
    "    }\n",
    "}\n",
    "\n",
    "response = es_client.search(index=\"documents_20240817_0639\", body=search_query)"
   ]
  },
  {
   "cell_type": "code",
   "execution_count": 13,
   "id": "4c56deef",
   "metadata": {},
   "outputs": [
    {
     "data": {
      "text/plain": [
       "{'_index': 'documents_20240817_0639',\n",
       " '_id': 'aUJNXpEBtMH-s8LsJb_B',\n",
       " '_score': 17.212463,\n",
       " '_source': {'text': 'Summer 2026.',\n",
       "  'section': 'General course-related questions',\n",
       "  'question': 'When is the next cohort?',\n",
       "  'document_id': '9b997fdf'}}"
      ]
     },
     "execution_count": 13,
     "metadata": {},
     "output_type": "execute_result"
    }
   ],
   "source": [
    "response['hits']['hits'][0]"
   ]
  },
  {
   "cell_type": "markdown",
   "id": "a50423f5",
   "metadata": {},
   "source": [
    "- What's the ID of the top matching result? **9b997fdf**"
   ]
  }
 ],
 "metadata": {
  "kernelspec": {
   "display_name": "Python 3 (ipykernel)",
   "language": "python",
   "name": "python3"
  },
  "language_info": {
   "codemirror_mode": {
    "name": "ipython",
    "version": 3
   },
   "file_extension": ".py",
   "mimetype": "text/x-python",
   "name": "python",
   "nbconvert_exporter": "python",
   "pygments_lexer": "ipython3",
   "version": "3.11.5"
  }
 },
 "nbformat": 4,
 "nbformat_minor": 5
}
